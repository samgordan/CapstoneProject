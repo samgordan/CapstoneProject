{
 "cells": [
  {
   "cell_type": "markdown",
   "metadata": {},
   "source": [
    "# Data Acquisition\n",
    "<p>In Excel, combined relevant/similar columns from 2007, 2009, 2011, 2013, 2015-2019 LAHSA Homeless Counts, available from <a href=\"https://www.lahsa.org/documents\">LAHSA</a> and <a href=\"https://economicrt.org/publication/los-angeles-county-homeless-count-data-library/\">Economic Roundtable</a>. Also extracted LA evictions data for 2000-2016 from the <a href=\"https://evictionlab.org/\">Princeton Eviction Lab.</a></p>\n",
    "<p>Read in homeless count and evictions data as pandas dataframes called homelessness and evictions.</p>"
   ]
  },
  {
   "cell_type": "code",
   "execution_count": 82,
   "metadata": {},
   "outputs": [],
   "source": [
    "import os\n",
    "import pandas as pd\n",
    "import numpy as np\n",
    "\n",
    "#import LA homelessness data & LA evictions data\n",
    "homelessness = pd.read_excel('/Users/sgd/Dropbox/Documents/DataIncubator/CapstoneProject/HomelessCountData/homelessnessdata2007-2019.xlsx', header=0)\n",
    "evictions = pd.read_excel('/Users/sgd/Dropbox/Documents/DataIncubator/CapstoneProject/EvictionsData/LACEvictionsByTract.xlsx', header=0)"
   ]
  },
  {
   "cell_type": "code",
   "execution_count": 83,
   "metadata": {},
   "outputs": [
    {
     "name": "stdout",
     "output_type": "stream",
     "text": [
      "['Year', 'tractNum', 'totalUnshelteredPeopleCount', 'adultsCount', 'youthCount', 'totalFamiliesCount', 'carsCount', 'vansCount', 'campersCount', 'tentsCount', 'otherShelterCount']\n",
      "['GEOID', 'year', 'name', 'parent-location', 'population', 'poverty-rate', 'renter-occupied-households', 'pct-renter-occupied', 'median-gross-rent', 'median-household-income', 'median-property-value', 'rent-burden', 'pct-white', 'pct-af-am', 'pct-hispanic', 'pct-am-ind', 'pct-asian', 'pct-nh-pi', 'pct-multiple', 'pct-other', 'eviction-filings', 'evictions', 'eviction-rate', 'eviction-filing-rate', 'low-flag', 'imputed', 'subbed']\n"
     ]
    },
    {
     "data": {
      "text/plain": [
       "0    6037101110\n",
       "1    6037101110\n",
       "2    6037101110\n",
       "3    6037101110\n",
       "4    6037101110\n",
       "Name: GEOID, dtype: int64"
      ]
     },
     "execution_count": 83,
     "metadata": {},
     "output_type": "execute_result"
    }
   ],
   "source": [
    "#check dataframes\n",
    "homelessness.head()\n",
    "#print(evictions.head())\n",
    "#print(homelessness.head())\n",
    "\n",
    "print([col for col in homelessness])\n",
    "print([col for col in evictions])\n",
    "#evictions.loc[[0],['GEOID']]\n",
    "evictions['GEOID'].head()"
   ]
  },
  {
   "cell_type": "markdown",
   "metadata": {},
   "source": [
    "# Data Reorganization and Combination\n",
    "<p>Create a new sorting column for evictions data because census tracts are in long form with state and county. To match Homelessness data, they should be in short form with only the rightmost 6 digits.</p>\n",
    "<p>Then, combine dataframes on both a year and tract match.</p>"
   ]
  },
  {
   "cell_type": "code",
   "execution_count": 84,
   "metadata": {},
   "outputs": [
    {
     "name": "stdout",
     "output_type": "stream",
     "text": [
      "(39888, 28)\n",
      "(15231, 11)\n",
      "(47544, 39)\n"
     ]
    },
    {
     "data": {
      "text/plain": [
       "Year                             2017\n",
       "tractNum                       271200\n",
       "totalUnshelteredPeopleCount     27.38\n",
       "adultsCount                         4\n",
       "youthCount                          0\n",
       "totalFamiliesCount                  0\n",
       "carsCount                           0\n",
       "vansCount                           2\n",
       "campersCount                        3\n",
       "tentsCount                          0\n",
       "otherShelterCount                   7\n",
       "GEOID                             NaN\n",
       "year                              NaN\n",
       "name                              NaN\n",
       "parent-location                   NaN\n",
       "population                        NaN\n",
       "poverty-rate                      NaN\n",
       "renter-occupied-households        NaN\n",
       "pct-renter-occupied               NaN\n",
       "median-gross-rent                 NaN\n",
       "median-household-income           NaN\n",
       "median-property-value             NaN\n",
       "rent-burden                       NaN\n",
       "pct-white                         NaN\n",
       "pct-af-am                         NaN\n",
       "pct-hispanic                      NaN\n",
       "pct-am-ind                        NaN\n",
       "pct-asian                         NaN\n",
       "pct-nh-pi                         NaN\n",
       "pct-multiple                      NaN\n",
       "pct-other                         NaN\n",
       "eviction-filings                  NaN\n",
       "evictions                         NaN\n",
       "eviction-rate                     NaN\n",
       "eviction-filing-rate              NaN\n",
       "low-flag                          NaN\n",
       "imputed                           NaN\n",
       "subbed                            NaN\n",
       "NEW_TRACT                         NaN\n",
       "Name: 6000, dtype: object"
      ]
     },
     "execution_count": 84,
     "metadata": {},
     "output_type": "execute_result"
    }
   ],
   "source": [
    "# make a new column called NEW_TRACT that contains only the last 6 digits of the original GEOID column\n",
    "evictions['NEW_TRACT'] = evictions['GEOID']%1000000\n",
    "\n",
    "#merge homelessness and evictions dataframes on year and tract number (outer merge)\n",
    "evictionsandhomelessness = pd.merge(homelessness, evictions,  how='outer', left_on=['Year','tractNum'], right_on = ['year','NEW_TRACT'])\n",
    "\n",
    "print(evictions.shape) #(39888, 28)\n",
    "print(homelessness.shape) #(15231, 11)\n",
    "print(evictionsandhomelessness.shape)\n",
    "evictionsandhomelessness.loc[6000] # this is tract 240200, may be a good one to plot\n"
   ]
  },
  {
   "cell_type": "code",
   "execution_count": 85,
   "metadata": {},
   "outputs": [
    {
     "data": {
      "text/plain": [
       "Text(0.5, 1.0, 'Example plot of Homelessness and Evictions, 2007 - 2016 in Tract #240200')"
      ]
     },
     "execution_count": 85,
     "metadata": {},
     "output_type": "execute_result"
    },
    {
     "data": {
      "image/png": "[encoded data removed]",
      "text/plain": [
       "<Figure size 432x288 with 1 Axes>"
      ]
     },
     "metadata": {
      "needs_background": "light"
     },
     "output_type": "display_data"
    }
   ],
   "source": [
    "import matplotlib.pyplot as plt\n",
    "tract240200 = evictionsandhomelessness.loc[evictionsandhomelessness['tractNum'] == 240200]\n",
    "tract240200.head()\n",
    "plt.plot(tract240200['Year'], tract240200['totalUnshelteredPeopleCount'],'o')\n",
    "plt.plot(tract240200['Year'], tract240200['evictions'],'-')\n",
    "plt.legend()\n",
    "plt.title('Example plot of Homelessness and Evictions, 2007 - 2016 in Tract #240200')"
   ]
  },
  {
   "cell_type": "markdown",
   "metadata": {},
   "source": [
    "# Group census tracts on similarities\n",
    "<p>So far, no idea about what will be the best measure of similarity, so naively trying sevral options like mean poverty rate, percentage of renters in district, and rent burden</p>"
   ]
  },
  {
   "cell_type": "code",
   "execution_count": 92,
   "metadata": {},
   "outputs": [
    {
     "name": "stdout",
     "output_type": "stream",
     "text": [
      "(7332, 40)\n",
      "Year                                                     2015\n",
      "tractNum                                               500500\n",
      "totalUnshelteredPeopleCount                                 0\n",
      "adultsCount                                                 0\n",
      "youthCount                                                  0\n",
      "totalFamiliesCount                                          0\n",
      "carsCount                                                   0\n",
      "vansCount                                                   1\n",
      "campersCount                                                5\n",
      "tentsCount                                                  0\n",
      "otherShelterCount                                           0\n",
      "GEOID                                              6.0375e+09\n",
      "year                                                     2015\n",
      "name                                                     5005\n",
      "parent-location                Los Angeles County, California\n",
      "population                                               2828\n",
      "poverty-rate                                              9.1\n",
      "renter-occupied-households                                241\n",
      "pct-renter-occupied                                      34.8\n",
      "median-gross-rent                                        1146\n",
      "median-household-income                                 42344\n",
      "median-property-value                                  190700\n",
      "rent-burden                                              36.8\n",
      "pct-white                                                4.84\n",
      "pct-af-am                                                1.27\n",
      "pct-hispanic                                            86.42\n",
      "pct-am-ind                                                  0\n",
      "pct-asian                                                7.11\n",
      "pct-nh-pi                                                   0\n",
      "pct-multiple                                             0.35\n",
      "pct-other                                                   0\n",
      "eviction-filings                                            5\n",
      "evictions                                                   5\n",
      "eviction-rate                                            2.08\n",
      "eviction-filing-rate                                     2.08\n",
      "low-flag                                                    1\n",
      "imputed                                                     0\n",
      "subbed                                                      0\n",
      "NEW_TRACT                                              500500\n",
      "povrategroup                                                1\n",
      "Name: 9679, dtype: object\n"
     ]
    }
   ],
   "source": [
    "evictionsandhomelessness['povrategroup'] = pd.cut(evictionsandhomelessness['poverty-rate'],bins=[0,25,50,75,100], labels=[1,2,3,4])\n",
    "EH_narm = evictionsandhomelessness.dropna(subset=['povrategroup','evictions','totalUnshelteredPeopleCount'])\n",
    "print(EH_narm.shape)\n",
    "EH_narm.columns\n",
    "EH_narm['povrategroup'].describe()\n",
    "EH_narm.count()\n",
    "print(EH_narm.iloc[4618])\n",
    "\n",
    "#EH_narm['totalUnshelteredPeopleCount'] = pd.to_numeric(EH_narm['totalUnshelteredPeopleCount'])"
   ]
  },
  {
   "cell_type": "code",
   "execution_count": 99,
   "metadata": {},
   "outputs": [
    {
     "data": {
      "image/png": "[encoded data removed]",
      "text/plain": [
       "<Figure size 432x288 with 1 Axes>"
      ]
     },
     "metadata": {
      "needs_background": "light"
     },
     "output_type": "display_data"
    },
    {
     "data": {
      "image/png": "[encoded data removed]",
      "text/plain": [
       "<Figure size 432x288 with 1 Axes>"
      ]
     },
     "metadata": {
      "needs_background": "light"
     },
     "output_type": "display_data"
    }
   ],
   "source": [
    "plt.plot(EH_narm['Year'], EH_narm['evictions'],'o')\n",
    "plt.show()\n",
    "plt.plot(EH_narm['Year'], EH_narm['totalUnshelteredPeopleCount'],'o')\n",
    "plt.show()"
   ]
  },
  {
   "cell_type": "code",
   "execution_count": null,
   "metadata": {},
   "outputs": [],
   "source": []
  }
 ],
 "metadata": {
  "kernelspec": {
   "display_name": "Python 3",
   "language": "python",
   "name": "python3"
  },
  "language_info": {
   "codemirror_mode": {
    "name": "ipython",
    "version": 3
   },
   "file_extension": ".py",
   "mimetype": "text/x-python",
   "name": "python",
   "nbconvert_exporter": "python",
   "pygments_lexer": "ipython3",
   "version": "3.7.1"
  }
 },
 "nbformat": 4,
 "nbformat_minor": 2
}
